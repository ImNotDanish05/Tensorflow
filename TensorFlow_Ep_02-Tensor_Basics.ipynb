{
  "nbformat": 4,
  "nbformat_minor": 0,
  "metadata": {
    "colab": {
      "provenance": [],
      "authorship_tag": "ABX9TyM34H7H+sLCUUzO7lOFudWi",
      "include_colab_link": true
    },
    "kernelspec": {
      "name": "python3",
      "display_name": "Python 3"
    },
    "language_info": {
      "name": "python"
    }
  },
  "cells": [
    {
      "cell_type": "markdown",
      "metadata": {
        "id": "view-in-github",
        "colab_type": "text"
      },
      "source": [
        "<a href=\"https://colab.research.google.com/github/ImNotDanish05/Tensorflow/blob/main/TensorFlow_Ep_02-Tensor_Basics.ipynb\" target=\"_parent\"><img src=\"https://colab.research.google.com/assets/colab-badge.svg\" alt=\"Open In Colab\"/></a>"
      ]
    },
    {
      "cell_type": "markdown",
      "source": [
        "Tutorial from here:\n",
        "https://www.youtube.com/watch?v=HPjBY1H-U4U&list=PLhhyoLH6IjfxVOdVC1P1L5z5azs0XjMsb&index=2"
      ],
      "metadata": {
        "id": "Vd7RtburvgT3"
      }
    },
    {
      "cell_type": "code",
      "execution_count": 1,
      "metadata": {
        "id": "iax1eHuv0Qky",
        "colab": {
          "base_uri": "https://localhost:8080/"
        },
        "outputId": "e9967be0-44c4-462f-c114-03830c70d73e"
      },
      "outputs": [
        {
          "output_type": "stream",
          "name": "stdout",
          "text": [
            "2.18.0\n"
          ]
        }
      ],
      "source": [
        "import tensorflow as tf\n",
        "print(tf.__version__)"
      ]
    },
    {
      "cell_type": "markdown",
      "source": [
        "# **Initialization of Tensor**"
      ],
      "metadata": {
        "id": "-xtUjmbSnyW-"
      }
    },
    {
      "cell_type": "code",
      "source": [
        "x = tf.constant(2)\n",
        "print(x)\n",
        "x = tf.constant(4, shape=(1,3), dtype=tf.float64)\n",
        "print(x)\n",
        "\n",
        "x = tf.constant([[1,2,3],[4,5,6]]) # 123 dan 456 count as rows (2) 14 25 36 count as columns (3)\n",
        "print(x)\n",
        "\n",
        "x = tf.constant((1,2))\n",
        "print(x)\n",
        "\n",
        "for i in range(1,4):\n",
        "    print(\" \")\n",
        "\n",
        "x = tf.ones(3,3)\n",
        "print(x)\n",
        "x = tf.zeros(2,3)\n",
        "print(x)\n",
        "x = tf.eye(3)\n",
        "print(x)\n",
        "x = tf.random.normal((3,3), mean=0, stddev=1)\n",
        "print(x)\n",
        "x = tf.random.uniform((3,3), minval=0, maxval=1)\n",
        "print(x)\n",
        "x = tf.range(start=1, limit=10, delta=3)\n",
        "print(x)\n",
        "#This will not change on the print, but its actually for change the type of the value. For example\n",
        "#For example change from int to float like code down below\n",
        "x = tf.cast(x, dtype=tf.float64)\n",
        "print(x)"
      ],
      "metadata": {
        "colab": {
          "base_uri": "https://localhost:8080/"
        },
        "id": "kkYk2qdxnP-n",
        "outputId": "ba60c0ab-d36b-4e9e-863e-92a6f7c56ff4"
      },
      "execution_count": 6,
      "outputs": [
        {
          "output_type": "stream",
          "name": "stdout",
          "text": [
            "tf.Tensor(2, shape=(), dtype=int32)\n",
            "tf.Tensor([[4. 4. 4.]], shape=(1, 3), dtype=float64)\n",
            "tf.Tensor(\n",
            "[[1 2 3]\n",
            " [4 5 6]], shape=(2, 3), dtype=int32)\n",
            "tf.Tensor([1 2], shape=(2,), dtype=int32)\n",
            " \n",
            " \n",
            " \n",
            "tf.Tensor([1 1 1], shape=(3,), dtype=int32)\n",
            "tf.Tensor([0 0], shape=(2,), dtype=int32)\n",
            "tf.Tensor(\n",
            "[[1. 0. 0.]\n",
            " [0. 1. 0.]\n",
            " [0. 0. 1.]], shape=(3, 3), dtype=float32)\n",
            "tf.Tensor(\n",
            "[[-0.7296437   0.27943856 -0.33013526]\n",
            " [ 0.36843553 -0.42120633 -0.9439669 ]\n",
            " [-0.70628077  0.9781292  -0.03738477]], shape=(3, 3), dtype=float32)\n",
            "tf.Tensor(\n",
            "[[0.6271329  0.78312874 0.0840404 ]\n",
            " [0.78087974 0.28499532 0.09464157]\n",
            " [0.12474895 0.47905755 0.11038733]], shape=(3, 3), dtype=float32)\n",
            "tf.Tensor([1 4 7], shape=(3,), dtype=int32)\n",
            "tf.Tensor([1. 4. 7.], shape=(3,), dtype=float64)\n"
          ]
        }
      ]
    },
    {
      "cell_type": "markdown",
      "source": [
        "# **Mathematical Operation**"
      ],
      "metadata": {
        "id": "nHPRohfmn9bV"
      }
    },
    {
      "cell_type": "code",
      "source": [
        "x = tf.constant([1,2,3])\n",
        "y = tf.constant([4,5,6])\n",
        "\n",
        "\"\"\"\n",
        "Add Function with tf.add() or +\n",
        "\"\"\"\n",
        "print(\" \")\n",
        "print(\"Add Function with tf.add() or +\")\n",
        "\n",
        "z = x + y\n",
        "print(z)\n",
        "z = tf.add(x, y)\n",
        "print(z)\n",
        "\n",
        "\"\"\"\n",
        "Subtract Function with tf.subtract() or -\n",
        "\"\"\"\n",
        "print(\" \")\n",
        "print(\"Subtract Function with tf.subtract() or -\")\n",
        "\n",
        "z = tf.subtract(x, y)\n",
        "print(z)\n",
        "z = x - y\n",
        "print(z)\n",
        "\n",
        "\"\"\"\n",
        "Divide Function with tf.divide() or /\n",
        "\"\"\"\n",
        "print(\" \")\n",
        "print(\"Divide Function with tf.divide() or /\")\n",
        "\n",
        "z = tf.divide(x, y)\n",
        "print(z)\n",
        "z = x / y\n",
        "print(z)\n",
        "\n",
        "\"\"\"\n",
        "Multiply Function with tf.multiply() or *\n",
        "\"\"\"\n",
        "print(\" \")\n",
        "print(\"Multiply Function with tf.multiply() or *\")\n",
        "\n",
        "z = tf.multiply(x, y)\n",
        "print(z)\n",
        "z = x * y\n",
        "print(z)\n",
        "\n",
        "\"\"\"\n",
        "Reduction Function with tf.reduce_sum()\n",
        "In real math, reduction function is used to calculate the sum of all elements in a matrix.\n",
        "But in tensorflow, reduction function can be used for tensors with more than one dimension.\n",
        "\n",
        "The formula for reduction function is:\n",
        "z = x[0] + x[1] + x[2] + ... + x[n]\n",
        "For example with x that we already have:\n",
        "z = 1 + 2 + 3 = 6\n",
        "The formula for reduction function for x and y is:\n",
        "z = x[0] + x[1] + x[2] + y[0] + y[1] + y[2]\n",
        "For example with x and y that we already have:\n",
        "z = 1 + 2 + 3 + 4 + 5 + 6 = 21\n",
        "\"\"\"\n",
        "print(\" \")\n",
        "print(\"Reduction Function with tf.reduce_sum()\")\n",
        "\n",
        "z = tf.reduce_sum([x, y])\n",
        "print(z)\n",
        "\n",
        "\"\"\"\n",
        "Dot Product Function with tf.tensordot()\n",
        "tensordot() is used to calculate the dot product of two tensors.\n",
        "In real math, dot product is only used for two vectors.\n",
        "But in tensorflow, dot product can be used for tensors with more than one dimension.\n",
        "axes=1 means that the dot product will be calculated along the first dimension.\n",
        "\n",
        "The formula for dot product is:\n",
        "z = x[0] * y[0] + x[1] * y[1] + x[2] * y[2]\n",
        "For example with x and y that we already have:\n",
        "z = 1 * 4 + 2 * 5 + 3 * 6 = 32\n",
        "\"\"\"\n",
        "print(\" \")\n",
        "print(\"Dot Product Function with tf.tensordot()\")\n",
        "\n",
        "z = tf.tensordot(x, y, axes=1)\n",
        "print(z)\n",
        "z = tf.reduce_sum(x*y, axis=0)\n",
        "print(z)\n",
        "\n"
      ],
      "metadata": {
        "colab": {
          "base_uri": "https://localhost:8080/"
        },
        "id": "V6Mn0GqHJ4Fy",
        "outputId": "f40d44a2-d623-49f1-83af-f005b60933b3"
      },
      "execution_count": 24,
      "outputs": [
        {
          "output_type": "stream",
          "name": "stdout",
          "text": [
            " \n",
            "Add Function with tf.add() or +\n",
            "tf.Tensor([5 7 9], shape=(3,), dtype=int32)\n",
            "tf.Tensor([5 7 9], shape=(3,), dtype=int32)\n",
            " \n",
            "Subtract Function with tf.subtract() or -\n",
            "tf.Tensor([-3 -3 -3], shape=(3,), dtype=int32)\n",
            "tf.Tensor([-3 -3 -3], shape=(3,), dtype=int32)\n",
            " \n",
            "Divide Function with tf.divide() or /\n",
            "tf.Tensor([0.25 0.4  0.5 ], shape=(3,), dtype=float64)\n",
            "tf.Tensor([0.25 0.4  0.5 ], shape=(3,), dtype=float64)\n",
            " \n",
            "Multiply Function with tf.multiply() or *\n",
            "tf.Tensor([ 4 10 18], shape=(3,), dtype=int32)\n",
            "tf.Tensor([ 4 10 18], shape=(3,), dtype=int32)\n",
            " \n",
            "Reduction Function with tf.reduce_sum()\n",
            "tf.Tensor(21, shape=(), dtype=int32)\n",
            " \n",
            "Dot Product Function with tf.tensordot()\n",
            "tf.Tensor(32, shape=(), dtype=int32)\n",
            "tf.Tensor(32, shape=(), dtype=int32)\n"
          ]
        }
      ]
    },
    {
      "cell_type": "markdown",
      "source": [
        "# **Indexing**"
      ],
      "metadata": {
        "id": "CwYR9NmNoUGO"
      }
    },
    {
      "cell_type": "markdown",
      "source": [
        "# **Reshaping**"
      ],
      "metadata": {
        "id": "ldUewJP5ocrn"
      }
    }
  ]
}