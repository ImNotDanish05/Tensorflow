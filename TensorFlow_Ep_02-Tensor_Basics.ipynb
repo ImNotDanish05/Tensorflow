{
  "nbformat": 4,
  "nbformat_minor": 0,
  "metadata": {
    "colab": {
      "provenance": [],
      "authorship_tag": "ABX9TyOBmtJjvpULOGrKoGQWXFuE",
      "include_colab_link": true
    },
    "kernelspec": {
      "name": "python3",
      "display_name": "Python 3"
    },
    "language_info": {
      "name": "python"
    }
  },
  "cells": [
    {
      "cell_type": "markdown",
      "metadata": {
        "id": "view-in-github",
        "colab_type": "text"
      },
      "source": [
        "<a href=\"https://colab.research.google.com/github/ImNotDanish05/Tensorflow/blob/main/TensorFlow_Ep_02-Tensor_Basics.ipynb\" target=\"_parent\"><img src=\"https://colab.research.google.com/assets/colab-badge.svg\" alt=\"Open In Colab\"/></a>"
      ]
    },
    {
      "cell_type": "markdown",
      "source": [
        "Tutorial from here:\n",
        "https://www.youtube.com/watch?v=HPjBY1H-U4U&list=PLhhyoLH6IjfxVOdVC1P1L5z5azs0XjMsb&index=2"
      ],
      "metadata": {
        "id": "Vd7RtburvgT3"
      }
    },
    {
      "cell_type": "code",
      "execution_count": 1,
      "metadata": {
        "id": "iax1eHuv0Qky",
        "colab": {
          "base_uri": "https://localhost:8080/"
        },
        "outputId": "e9967be0-44c4-462f-c114-03830c70d73e"
      },
      "outputs": [
        {
          "output_type": "stream",
          "name": "stdout",
          "text": [
            "2.18.0\n"
          ]
        }
      ],
      "source": [
        "import tensorflow as tf\n",
        "print(tf.__version__)"
      ]
    },
    {
      "cell_type": "markdown",
      "source": [
        "# **Initialization of Tensor**"
      ],
      "metadata": {
        "id": "-xtUjmbSnyW-"
      }
    },
    {
      "cell_type": "code",
      "source": [
        "x = tf.constant(2)\n",
        "print(x)\n",
        "x = tf.constant(4, shape=(1,3), dtype=tf.float64)\n",
        "print(x)\n",
        "\n",
        "x = tf.constant([[1,2,3],[4,5,6]]) # 123 dan 456 count as rows (2) 14 25 36 count as columns (3)\n",
        "print(x)\n",
        "\n",
        "x = tf.constant((1,2))\n",
        "print(x)\n",
        "\n",
        "for i in range(1,4):\n",
        "    print(\" \")\n",
        "\n",
        "x = tf.ones(3,3)\n",
        "print(x)\n",
        "x = tf.zeros(2,3)\n",
        "print(x)\n",
        "x = tf.eye(3)\n",
        "print(x)\n",
        "x = tf.random.normal((3,3), mean=0, stddev=1)\n",
        "print(x)\n",
        "x = tf.random.uniform((3,3), minval=0, maxval=1)\n",
        "print(x)\n",
        "x = tf.range(start=1, limit=10, delta=3)\n",
        "print(x)\n",
        "#This will not change on the print, but its actually for change the type of the value. For example\n",
        "#For example change from int to float like code down below\n",
        "x = tf.cast(x, dtype=tf.float64)\n",
        "print(x)"
      ],
      "metadata": {
        "colab": {
          "base_uri": "https://localhost:8080/"
        },
        "id": "kkYk2qdxnP-n",
        "outputId": "ba60c0ab-d36b-4e9e-863e-92a6f7c56ff4"
      },
      "execution_count": 6,
      "outputs": [
        {
          "output_type": "stream",
          "name": "stdout",
          "text": [
            "tf.Tensor(2, shape=(), dtype=int32)\n",
            "tf.Tensor([[4. 4. 4.]], shape=(1, 3), dtype=float64)\n",
            "tf.Tensor(\n",
            "[[1 2 3]\n",
            " [4 5 6]], shape=(2, 3), dtype=int32)\n",
            "tf.Tensor([1 2], shape=(2,), dtype=int32)\n",
            " \n",
            " \n",
            " \n",
            "tf.Tensor([1 1 1], shape=(3,), dtype=int32)\n",
            "tf.Tensor([0 0], shape=(2,), dtype=int32)\n",
            "tf.Tensor(\n",
            "[[1. 0. 0.]\n",
            " [0. 1. 0.]\n",
            " [0. 0. 1.]], shape=(3, 3), dtype=float32)\n",
            "tf.Tensor(\n",
            "[[-0.7296437   0.27943856 -0.33013526]\n",
            " [ 0.36843553 -0.42120633 -0.9439669 ]\n",
            " [-0.70628077  0.9781292  -0.03738477]], shape=(3, 3), dtype=float32)\n",
            "tf.Tensor(\n",
            "[[0.6271329  0.78312874 0.0840404 ]\n",
            " [0.78087974 0.28499532 0.09464157]\n",
            " [0.12474895 0.47905755 0.11038733]], shape=(3, 3), dtype=float32)\n",
            "tf.Tensor([1 4 7], shape=(3,), dtype=int32)\n",
            "tf.Tensor([1. 4. 7.], shape=(3,), dtype=float64)\n"
          ]
        }
      ]
    },
    {
      "cell_type": "markdown",
      "source": [
        "# **Mathematical Operation**"
      ],
      "metadata": {
        "id": "nHPRohfmn9bV"
      }
    },
    {
      "cell_type": "markdown",
      "source": [
        "# **Indexing**"
      ],
      "metadata": {
        "id": "CwYR9NmNoUGO"
      }
    },
    {
      "cell_type": "markdown",
      "source": [
        "# **Reshaping**"
      ],
      "metadata": {
        "id": "ldUewJP5ocrn"
      }
    }
  ]
}