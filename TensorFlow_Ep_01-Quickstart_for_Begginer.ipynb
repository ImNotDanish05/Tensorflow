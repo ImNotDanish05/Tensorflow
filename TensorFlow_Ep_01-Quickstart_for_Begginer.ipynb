{
  "nbformat": 4,
  "nbformat_minor": 0,
  "metadata": {
    "colab": {
      "provenance": [],
      "authorship_tag": "ABX9TyPBMzVj0IvV0lMTb/J4acJC",
      "include_colab_link": true
    },
    "kernelspec": {
      "name": "python3",
      "display_name": "Python 3"
    },
    "language_info": {
      "name": "python"
    }
  },
  "cells": [
    {
      "cell_type": "markdown",
      "metadata": {
        "id": "view-in-github",
        "colab_type": "text"
      },
      "source": [
        "<a href=\"https://colab.research.google.com/github/ImNotDanish05/Tensorflow/blob/main/TensorFlow_Ep_01-Quickstart_for_Begginer.ipynb\" target=\"_parent\"><img src=\"https://colab.research.google.com/assets/colab-badge.svg\" alt=\"Open In Colab\"/></a>"
      ]
    },
    {
      "cell_type": "markdown",
      "source": [
        "Follow these tutorial: https://colab.research.google.com/github/tensorflow/docs/blob/master/site/en/tutorials/quickstart/beginner.ipynb#scrollTo=7FP5258xjs-v"
      ],
      "metadata": {
        "id": "CXZR1GkI8wjL"
      }
    },
    {
      "cell_type": "code",
      "execution_count": 1,
      "metadata": {
        "id": "iax1eHuv0Qky",
        "outputId": "e44894d6-d0c1-4981-c423-2236f2dbc2a3",
        "colab": {
          "base_uri": "https://localhost:8080/"
        }
      },
      "outputs": [
        {
          "output_type": "stream",
          "name": "stdout",
          "text": [
            "Downloading data from https://storage.googleapis.com/tensorflow/tf-keras-datasets/mnist.npz\n",
            "\u001b[1m11490434/11490434\u001b[0m \u001b[32m━━━━━━━━━━━━━━━━━━━━\u001b[0m\u001b[37m\u001b[0m \u001b[1m0s\u001b[0m 0us/step\n"
          ]
        },
        {
          "output_type": "stream",
          "name": "stderr",
          "text": [
            "/usr/local/lib/python3.11/dist-packages/keras/src/layers/reshaping/flatten.py:37: UserWarning: Do not pass an `input_shape`/`input_dim` argument to a layer. When using Sequential models, prefer using an `Input(shape)` object as the first layer in the model instead.\n",
            "  super().__init__(**kwargs)\n"
          ]
        },
        {
          "output_type": "stream",
          "name": "stdout",
          "text": [
            "[] ===== []\n",
            "<Sequential name=sequential, built=True>\n"
          ]
        }
      ],
      "source": [
        "import tensorflow as tf\n",
        "\n",
        "mnist = tf.keras.datasets.mnist.load_data() #####\n",
        "(x_train, y_train), (x_test, y_test) = mnist\n",
        "x_train, x_test = x_train / 255.0, x_test / 255.0\n",
        "\n",
        "model = tf.keras.models.Sequential([\n",
        "  tf.keras.layers.Flatten(input_shape=(28, 28)),\n",
        "  tf.keras.layers.Dense(128, activation='relu'),\n",
        "  tf.keras.layers.Dropout(0.2),\n",
        "  tf.keras.layers.Dense(10)\n",
        "])\n",
        "\n",
        "\n",
        "# print(test_mnist)\n",
        "print(\"[] ===== []\")\n",
        "print(model)\n"
      ]
    },
    {
      "cell_type": "code",
      "source": [
        "predictions = model(x_train[:1])\n",
        "print(predictions)\n",
        "print(tf.argmax(predictions, axis=1))\n",
        "print(\" \")\n",
        "print(predictions.numpy())"
      ],
      "metadata": {
        "colab": {
          "base_uri": "https://localhost:8080/"
        },
        "id": "e9K7wc5YM9SO",
        "outputId": "ee38668b-bf93-4045-a7da-5ffddfc5a29c"
      },
      "execution_count": 4,
      "outputs": [
        {
          "output_type": "stream",
          "name": "stdout",
          "text": [
            "tf.Tensor(\n",
            "[[ 0.40307254  0.17571759 -0.25363666 -0.02485508  0.6565687  -0.06257631\n",
            "   0.87941194  0.07439998 -0.5887401   0.1966913 ]], shape=(1, 10), dtype=float32)\n",
            "tf.Tensor([6], shape=(1,), dtype=int64)\n",
            " \n",
            "[[ 0.40307254  0.17571759 -0.25363666 -0.02485508  0.6565687  -0.06257631\n",
            "   0.87941194  0.07439998 -0.5887401   0.1966913 ]]\n"
          ]
        }
      ]
    },
    {
      "cell_type": "code",
      "source": [
        "print(tf.nn.softmax(predictions).numpy())"
      ],
      "metadata": {
        "id": "4MT4nUhnOol0",
        "outputId": "06badf3f-f467-4224-ce24-73e0778de78e",
        "colab": {
          "base_uri": "https://localhost:8080/"
        }
      },
      "execution_count": 5,
      "outputs": [
        {
          "output_type": "stream",
          "name": "stdout",
          "text": [
            "[[0.11907914 0.09486297 0.06174909 0.07762276 0.15343614 0.07474928\n",
            "  0.19173759 0.08572254 0.0441669  0.09687361]]\n"
          ]
        }
      ]
    },
    {
      "cell_type": "code",
      "source": [
        "predictions = model(x_train[:1]).numpy()\n",
        "predictions\n",
        "\n",
        "tf.nn.softmax(predictions).numpy()"
      ],
      "metadata": {
        "colab": {
          "base_uri": "https://localhost:8080/"
        },
        "id": "7jRT1mmYr1eD",
        "outputId": "162f46ed-c203-4455-fce2-0fcfb89cb704"
      },
      "execution_count": 6,
      "outputs": [
        {
          "output_type": "execute_result",
          "data": {
            "text/plain": [
              "array([[0.11907914, 0.09486297, 0.06174909, 0.07762276, 0.15343614,\n",
              "        0.07474928, 0.19173759, 0.08572254, 0.0441669 , 0.09687361]],\n",
              "      dtype=float32)"
            ]
          },
          "metadata": {},
          "execution_count": 6
        }
      ]
    },
    {
      "cell_type": "code",
      "source": [
        "# Define a loss function for training using losses.SparseCategoricalCrossentropy\n",
        "loss_fn = tf.keras.losses.SparseCategoricalCrossentropy(from_logits=True)\n",
        "print(loss_fn)"
      ],
      "metadata": {
        "colab": {
          "base_uri": "https://localhost:8080/"
        },
        "id": "q9H4uEBdiNtA",
        "outputId": "a9d44dd9-7b1d-4828-af87-e891aa698c70"
      },
      "execution_count": 7,
      "outputs": [
        {
          "output_type": "stream",
          "name": "stdout",
          "text": [
            "<LossFunctionWrapper(<function sparse_categorical_crossentropy at 0x7cfd924b65c0>, kwargs={'from_logits': True, 'ignore_class': None})>\n"
          ]
        }
      ]
    },
    {
      "cell_type": "code",
      "source": [
        "loss_fn(y_train[:1], predictions).numpy()"
      ],
      "metadata": {
        "colab": {
          "base_uri": "https://localhost:8080/"
        },
        "id": "2uHF2U32iPnC",
        "outputId": "ea89b760-6ca6-4520-ae9f-b33ce43b686e"
      },
      "execution_count": 8,
      "outputs": [
        {
          "output_type": "execute_result",
          "data": {
            "text/plain": [
              "np.float32(2.5936158)"
            ]
          },
          "metadata": {},
          "execution_count": 8
        }
      ]
    }
  ]
}