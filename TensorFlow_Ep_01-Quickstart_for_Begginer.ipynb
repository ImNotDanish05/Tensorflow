{
  "nbformat": 4,
  "nbformat_minor": 0,
  "metadata": {
    "colab": {
      "provenance": [],
      "authorship_tag": "ABX9TyOtY7wCflw16kmugINvmsLY",
      "include_colab_link": true
    },
    "kernelspec": {
      "name": "python3",
      "display_name": "Python 3"
    },
    "language_info": {
      "name": "python"
    }
  },
  "cells": [
    {
      "cell_type": "markdown",
      "metadata": {
        "id": "view-in-github",
        "colab_type": "text"
      },
      "source": [
        "<a href=\"https://colab.research.google.com/github/ImNotDanish05/Tensorflow/blob/main/TensorFlow_Ep_01-Quickstart_for_Begginer.ipynb\" target=\"_parent\"><img src=\"https://colab.research.google.com/assets/colab-badge.svg\" alt=\"Open In Colab\"/></a>"
      ]
    },
    {
      "cell_type": "code",
      "execution_count": 7,
      "metadata": {
        "id": "iax1eHuv0Qky",
        "outputId": "6cb5c69e-380e-41da-a96e-f3c1f76184f6",
        "colab": {
          "base_uri": "https://localhost:8080/"
        }
      },
      "outputs": [
        {
          "output_type": "stream",
          "name": "stdout",
          "text": [
            "[] ===== []\n",
            "<Sequential name=sequential_5, built=True>\n"
          ]
        }
      ],
      "source": [
        "import tensorflow as tf\n",
        "\n",
        "test_mnist = tf.keras.datasets.mnist.load_data()\n",
        "(x_train, x_test), (y_train, y_test) = test_mnist\n",
        "x_train, x_test = x_train / 255.0, x_test / 255.0\n",
        "\n",
        "model = tf.keras.models.Sequential([\n",
        "    tf.keras.layers.Flatten(input_shape=(28, 28)),\n",
        "    tf.keras.layers.Dense(128, activation='relu'),\n",
        "    tf.keras.layers.Dropout(0.2),\n",
        "    tf.keras.layers.Dense(10, activation='softmax')\n",
        "])\n",
        "\n",
        "\n",
        "# print(test_mnist)\n",
        "print(\"[] ===== []\")\n",
        "print(model)\n"
      ]
    },
    {
      "cell_type": "code",
      "source": [
        "check = model(x_train[:1])\n",
        "print(check)\n",
        "print(tf.argmax(check, axis=1))\n",
        "print(\" \")\n",
        "print(check.numpy)"
      ],
      "metadata": {
        "colab": {
          "base_uri": "https://localhost:8080/"
        },
        "id": "e9K7wc5YM9SO",
        "outputId": "bbf374df-3422-4915-ab8d-5ecede5526a6"
      },
      "execution_count": 9,
      "outputs": [
        {
          "output_type": "stream",
          "name": "stdout",
          "text": [
            "tf.Tensor(\n",
            "[[0.07554609 0.06058553 0.03752242 0.13131642 0.08097802 0.0701722\n",
            "  0.08655927 0.23215212 0.1724236  0.05274432]], shape=(1, 10), dtype=float32)\n",
            "tf.Tensor([7], shape=(1,), dtype=int64)\n",
            " \n",
            "<bound method _EagerTensorBase.numpy of <tf.Tensor: shape=(1, 10), dtype=float32, numpy=\n",
            "array([[0.07554609, 0.06058553, 0.03752242, 0.13131642, 0.08097802,\n",
            "        0.0701722 , 0.08655927, 0.23215212, 0.1724236 , 0.05274432]],\n",
            "      dtype=float32)>>\n"
          ]
        }
      ]
    }
  ]
}