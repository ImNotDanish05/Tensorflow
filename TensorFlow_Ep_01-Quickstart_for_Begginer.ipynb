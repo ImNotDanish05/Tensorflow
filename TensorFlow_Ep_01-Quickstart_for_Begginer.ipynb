{
  "nbformat": 4,
  "nbformat_minor": 0,
  "metadata": {
    "colab": {
      "provenance": [],
      "authorship_tag": "ABX9TyMiBq3NlJEC2gCZ8Ql5D+/4",
      "include_colab_link": true
    },
    "kernelspec": {
      "name": "python3",
      "display_name": "Python 3"
    },
    "language_info": {
      "name": "python"
    }
  },
  "cells": [
    {
      "cell_type": "markdown",
      "metadata": {
        "id": "view-in-github",
        "colab_type": "text"
      },
      "source": [
        "<a href=\"https://colab.research.google.com/github/ImNotDanish05/Tensorflow/blob/main/TensorFlow_Ep_01-Quickstart_for_Begginer.ipynb\" target=\"_parent\"><img src=\"https://colab.research.google.com/assets/colab-badge.svg\" alt=\"Open In Colab\"/></a>"
      ]
    },
    {
      "cell_type": "markdown",
      "source": [
        "Follow these tutorial: https://colab.research.google.com/github/tensorflow/docs/blob/master/site/en/tutorials/quickstart/beginner.ipynb#scrollTo=7FP5258xjs-v"
      ],
      "metadata": {
        "id": "CXZR1GkI8wjL"
      }
    },
    {
      "cell_type": "markdown",
      "source": [
        "# **Set Up Tensorflow**"
      ],
      "metadata": {
        "id": "FegcaNVzauqH"
      }
    },
    {
      "cell_type": "code",
      "execution_count": 1,
      "metadata": {
        "id": "iax1eHuv0Qky",
        "outputId": "0c524fa6-9af4-4ada-f961-5f3a76a4a9b3",
        "colab": {
          "base_uri": "https://localhost:8080/"
        }
      },
      "outputs": [
        {
          "output_type": "stream",
          "name": "stdout",
          "text": [
            "tf version: 2.18.0\n"
          ]
        }
      ],
      "source": [
        "import tensorflow as tf\n",
        "print('tf version:', tf.__version__)"
      ]
    },
    {
      "cell_type": "markdown",
      "source": [
        "# **Load a Dataset**"
      ],
      "metadata": {
        "id": "F2Rk-BEVd55F"
      }
    },
    {
      "cell_type": "code",
      "source": [
        "mnist = tf.keras.datasets.mnist.load_data() #####\n",
        "(x_train, y_train), (x_test, y_test) = mnist\n",
        "x_train, x_test = x_train / 255.0, x_test / 255.0"
      ],
      "metadata": {
        "id": "gC372N1Fb-No",
        "outputId": "f0101a44-bfcb-49b7-dbf9-cdfd1be2882a",
        "colab": {
          "base_uri": "https://localhost:8080/"
        }
      },
      "execution_count": 2,
      "outputs": [
        {
          "output_type": "stream",
          "name": "stdout",
          "text": [
            "Downloading data from https://storage.googleapis.com/tensorflow/tf-keras-datasets/mnist.npz\n",
            "\u001b[1m11490434/11490434\u001b[0m \u001b[32m━━━━━━━━━━━━━━━━━━━━\u001b[0m\u001b[37m\u001b[0m \u001b[1m0s\u001b[0m 0us/step\n"
          ]
        }
      ]
    },
    {
      "cell_type": "markdown",
      "source": [
        "# **Build a machine learning model**"
      ],
      "metadata": {
        "id": "cOWau0f93Rh8"
      }
    },
    {
      "cell_type": "code",
      "source": [
        "model = tf.keras.models.Sequential([\n",
        "  tf.keras.layers.Flatten(input_shape=(28, 28)),\n",
        "  tf.keras.layers.Dense(128, activation='relu'),\n",
        "  tf.keras.layers.Dropout(0.2),\n",
        "  tf.keras.layers.Dense(10)\n",
        "])\n",
        "\n",
        "\n",
        "# print(test_mnist)\n",
        "print(\"[] ===== []\")\n",
        "print(model)"
      ],
      "metadata": {
        "id": "eAd4mdvF3QLe",
        "outputId": "21d48ec7-66dc-4193-891e-1d7638e45a45",
        "colab": {
          "base_uri": "https://localhost:8080/"
        }
      },
      "execution_count": 3,
      "outputs": [
        {
          "output_type": "stream",
          "name": "stdout",
          "text": [
            "[] ===== []\n",
            "<Sequential name=sequential, built=True>\n"
          ]
        },
        {
          "output_type": "stream",
          "name": "stderr",
          "text": [
            "/usr/local/lib/python3.11/dist-packages/keras/src/layers/reshaping/flatten.py:37: UserWarning: Do not pass an `input_shape`/`input_dim` argument to a layer. When using Sequential models, prefer using an `Input(shape)` object as the first layer in the model instead.\n",
            "  super().__init__(**kwargs)\n"
          ]
        }
      ]
    },
    {
      "cell_type": "code",
      "source": [
        "predictions = model(x_train[:1])\n",
        "print(predictions)\n",
        "print(tf.argmax(predictions, axis=1))\n",
        "print(\" \")\n",
        "print(predictions.numpy())"
      ],
      "metadata": {
        "colab": {
          "base_uri": "https://localhost:8080/"
        },
        "id": "e9K7wc5YM9SO",
        "outputId": "7886a432-3bc6-4a06-d26d-88aa596f4ce4"
      },
      "execution_count": 4,
      "outputs": [
        {
          "output_type": "stream",
          "name": "stdout",
          "text": [
            "tf.Tensor(\n",
            "[[-0.18900043 -0.29431996 -0.06984079  0.04490335 -0.10256311  0.28751066\n",
            "   0.56442356 -0.19059058  0.1669034   0.19627908]], shape=(1, 10), dtype=float32)\n",
            "tf.Tensor([6], shape=(1,), dtype=int64)\n",
            " \n",
            "[[-0.18900043 -0.29431996 -0.06984079  0.04490335 -0.10256311  0.28751066\n",
            "   0.56442356 -0.19059058  0.1669034   0.19627908]]\n"
          ]
        }
      ]
    },
    {
      "cell_type": "code",
      "source": [
        "print(tf.nn.softmax(predictions).numpy())"
      ],
      "metadata": {
        "id": "4MT4nUhnOol0",
        "outputId": "079b54e6-ecc7-4e60-cef6-dbe59eb0a95a",
        "colab": {
          "base_uri": "https://localhost:8080/"
        }
      },
      "execution_count": 5,
      "outputs": [
        {
          "output_type": "stream",
          "name": "stdout",
          "text": [
            "[[0.07685801 0.06917504 0.08658437 0.09711186 0.08379699 0.12377566\n",
            "  0.16326648 0.0767359  0.10971253 0.11298321]]\n"
          ]
        }
      ]
    },
    {
      "cell_type": "code",
      "source": [
        "predictions = model(x_train[:1]).numpy()\n",
        "predictions\n",
        "\n",
        "tf.nn.softmax(predictions).numpy()"
      ],
      "metadata": {
        "colab": {
          "base_uri": "https://localhost:8080/"
        },
        "id": "7jRT1mmYr1eD",
        "outputId": "f9275c32-c299-4609-e8eb-941f4059548e"
      },
      "execution_count": 6,
      "outputs": [
        {
          "output_type": "execute_result",
          "data": {
            "text/plain": [
              "array([[0.07685801, 0.06917504, 0.08658437, 0.09711186, 0.08379699,\n",
              "        0.12377566, 0.16326648, 0.0767359 , 0.10971253, 0.11298321]],\n",
              "      dtype=float32)"
            ]
          },
          "metadata": {},
          "execution_count": 6
        }
      ]
    },
    {
      "cell_type": "code",
      "source": [
        "# Define a loss function for training using losses.SparseCategoricalCrossentropy\n",
        "loss_fn = tf.keras.losses.SparseCategoricalCrossentropy(from_logits=True)\n",
        "print(loss_fn)"
      ],
      "metadata": {
        "colab": {
          "base_uri": "https://localhost:8080/"
        },
        "id": "q9H4uEBdiNtA",
        "outputId": "236d5b78-1095-4c46-9d93-a478ef729756"
      },
      "execution_count": 7,
      "outputs": [
        {
          "output_type": "stream",
          "name": "stdout",
          "text": [
            "<LossFunctionWrapper(<function sparse_categorical_crossentropy at 0x7d2b2441b920>, kwargs={'from_logits': True, 'ignore_class': None})>\n"
          ]
        }
      ]
    },
    {
      "cell_type": "code",
      "source": [
        "loss_fn(y_train[:1], predictions).numpy()"
      ],
      "metadata": {
        "colab": {
          "base_uri": "https://localhost:8080/"
        },
        "id": "2uHF2U32iPnC",
        "outputId": "ea31b9d5-e174-4b76-c750-4c09a909154d"
      },
      "execution_count": 8,
      "outputs": [
        {
          "output_type": "execute_result",
          "data": {
            "text/plain": [
              "np.float32(2.0892844)"
            ]
          },
          "metadata": {},
          "execution_count": 8
        }
      ]
    },
    {
      "cell_type": "code",
      "source": [
        "model.compile(optimizer='adam',\n",
        "              loss=loss_fn,\n",
        "              metrics=['accuracy'])"
      ],
      "metadata": {
        "id": "cnbArcfcZ4Ln"
      },
      "execution_count": 9,
      "outputs": []
    },
    {
      "cell_type": "markdown",
      "source": [
        "# **Train and evaluate your model**"
      ],
      "metadata": {
        "id": "vS_uvSqr3kfb"
      }
    },
    {
      "cell_type": "code",
      "source": [
        "model.fit(x_train, y_train, epochs=5)"
      ],
      "metadata": {
        "id": "7Fs2plpH3l3y",
        "outputId": "fc246f9f-7e29-401d-d866-716cf204980d",
        "colab": {
          "base_uri": "https://localhost:8080/"
        }
      },
      "execution_count": 10,
      "outputs": [
        {
          "output_type": "stream",
          "name": "stdout",
          "text": [
            "Epoch 1/5\n",
            "\u001b[1m1875/1875\u001b[0m \u001b[32m━━━━━━━━━━━━━━━━━━━━\u001b[0m\u001b[37m\u001b[0m \u001b[1m13s\u001b[0m 6ms/step - accuracy: 0.8551 - loss: 0.4929\n",
            "Epoch 2/5\n",
            "\u001b[1m1875/1875\u001b[0m \u001b[32m━━━━━━━━━━━━━━━━━━━━\u001b[0m\u001b[37m\u001b[0m \u001b[1m8s\u001b[0m 4ms/step - accuracy: 0.9532 - loss: 0.1574\n",
            "Epoch 3/5\n",
            "\u001b[1m1875/1875\u001b[0m \u001b[32m━━━━━━━━━━━━━━━━━━━━\u001b[0m\u001b[37m\u001b[0m \u001b[1m10s\u001b[0m 4ms/step - accuracy: 0.9668 - loss: 0.1081\n",
            "Epoch 4/5\n",
            "\u001b[1m1875/1875\u001b[0m \u001b[32m━━━━━━━━━━━━━━━━━━━━\u001b[0m\u001b[37m\u001b[0m \u001b[1m7s\u001b[0m 4ms/step - accuracy: 0.9725 - loss: 0.0863\n",
            "Epoch 5/5\n",
            "\u001b[1m1875/1875\u001b[0m \u001b[32m━━━━━━━━━━━━━━━━━━━━\u001b[0m\u001b[37m\u001b[0m \u001b[1m12s\u001b[0m 4ms/step - accuracy: 0.9762 - loss: 0.0759\n"
          ]
        },
        {
          "output_type": "execute_result",
          "data": {
            "text/plain": [
              "<keras.src.callbacks.history.History at 0x7d2b0e96de10>"
            ]
          },
          "metadata": {},
          "execution_count": 10
        }
      ]
    },
    {
      "cell_type": "code",
      "source": [
        "model.evaluate(x_test, y_test, verbose=2)"
      ],
      "metadata": {
        "id": "we1MCldwyWrf",
        "outputId": "3d97284b-4587-4dbd-89e1-c7d283581ed2",
        "colab": {
          "base_uri": "https://localhost:8080/"
        }
      },
      "execution_count": 11,
      "outputs": [
        {
          "output_type": "stream",
          "name": "stdout",
          "text": [
            "313/313 - 1s - 2ms/step - accuracy: 0.9770 - loss: 0.0739\n"
          ]
        },
        {
          "output_type": "execute_result",
          "data": {
            "text/plain": [
              "[0.07390289008617401, 0.9769999980926514]"
            ]
          },
          "metadata": {},
          "execution_count": 11
        }
      ]
    },
    {
      "cell_type": "code",
      "source": [
        "probability_model = tf.keras.Sequential([\n",
        "    model,\n",
        "    tf.keras.layers.Softmax()\n",
        "])"
      ],
      "metadata": {
        "id": "HHZDM3j_sabt"
      },
      "execution_count": 12,
      "outputs": []
    },
    {
      "cell_type": "code",
      "source": [
        "probability_model(x_test[:5])"
      ],
      "metadata": {
        "id": "islGpLhNs18V",
        "outputId": "1515a7c7-8762-4e35-9296-70cd802348dc",
        "colab": {
          "base_uri": "https://localhost:8080/"
        }
      },
      "execution_count": 13,
      "outputs": [
        {
          "output_type": "execute_result",
          "data": {
            "text/plain": [
              "<tf.Tensor: shape=(5, 10), dtype=float32, numpy=\n",
              "array([[1.17249620e-07, 8.40080450e-09, 4.30948739e-06, 3.18651437e-04,\n",
              "        5.78474768e-10, 1.91415165e-06, 2.02504791e-14, 9.99557436e-01,\n",
              "        2.69245243e-06, 1.14886403e-04],\n",
              "       [2.69277649e-07, 5.33737739e-06, 9.99979496e-01, 1.35394848e-05,\n",
              "        1.27016428e-14, 3.56456383e-07, 1.32286928e-07, 3.31958289e-15,\n",
              "        9.78094818e-07, 4.86702345e-10],\n",
              "       [1.09673874e-05, 9.98817384e-01, 6.74787661e-05, 3.06676193e-05,\n",
              "        9.71872214e-05, 8.89350213e-06, 8.07711403e-05, 2.94454483e-04,\n",
              "        5.81590459e-04, 1.05095505e-05],\n",
              "       [9.99795377e-01, 2.99938807e-09, 1.58629591e-05, 2.40655869e-08,\n",
              "        1.15669104e-06, 4.43263752e-06, 1.63448000e-04, 8.30751924e-06,\n",
              "        1.04818056e-07, 1.13475298e-05],\n",
              "       [4.22015404e-07, 5.75328452e-09, 5.72108656e-05, 1.31632788e-07,\n",
              "        9.97836173e-01, 3.30486591e-06, 3.45784588e-06, 5.93497462e-05,\n",
              "        5.61553452e-06, 2.03427649e-03]], dtype=float32)>"
            ]
          },
          "metadata": {},
          "execution_count": 13
        }
      ]
    }
  ]
}